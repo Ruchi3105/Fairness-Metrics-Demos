{
 "cells": [
  {
   "cell_type": "code",
   "execution_count": 5,
   "id": "9d015216",
   "metadata": {},
   "outputs": [
    {
     "name": "stdout",
     "output_type": "stream",
     "text": [
      "Collecting aif360\n",
      "  Downloading aif360-0.6.1-py3-none-any.whl.metadata (5.0 kB)\n",
      "Requirement already satisfied: numpy>=1.16 in c:\\users\\devin\\appdata\\local\\programs\\python\\python312\\lib\\site-packages (from aif360) (1.26.4)\n",
      "Collecting scipy>=1.2.0 (from aif360)\n",
      "  Downloading scipy-1.13.1-cp312-cp312-win_amd64.whl.metadata (60 kB)\n",
      "     ---------------------------------------- 0.0/60.6 kB ? eta -:--:--\n",
      "     ------ --------------------------------- 10.2/60.6 kB ? eta -:--:--\n",
      "     ---------------------------------------- 60.6/60.6 kB 1.1 MB/s eta 0:00:00\n",
      "Collecting pandas>=0.24.0 (from aif360)\n",
      "  Downloading pandas-2.2.2-cp312-cp312-win_amd64.whl.metadata (19 kB)\n",
      "Collecting scikit-learn>=1.0 (from aif360)\n",
      "  Downloading scikit_learn-1.5.0-cp312-cp312-win_amd64.whl.metadata (11 kB)\n",
      "Collecting matplotlib (from aif360)\n",
      "  Downloading matplotlib-3.9.0-cp312-cp312-win_amd64.whl.metadata (11 kB)\n",
      "Requirement already satisfied: python-dateutil>=2.8.2 in c:\\users\\devin\\appdata\\local\\programs\\python\\python312\\lib\\site-packages (from pandas>=0.24.0->aif360) (2.9.0.post0)\n",
      "Collecting pytz>=2020.1 (from pandas>=0.24.0->aif360)\n",
      "  Downloading pytz-2024.1-py2.py3-none-any.whl.metadata (22 kB)\n",
      "Collecting tzdata>=2022.7 (from pandas>=0.24.0->aif360)\n",
      "  Downloading tzdata-2024.1-py2.py3-none-any.whl.metadata (1.4 kB)\n",
      "Collecting joblib>=1.2.0 (from scikit-learn>=1.0->aif360)\n",
      "  Downloading joblib-1.4.2-py3-none-any.whl.metadata (5.4 kB)\n",
      "Collecting threadpoolctl>=3.1.0 (from scikit-learn>=1.0->aif360)\n",
      "  Downloading threadpoolctl-3.5.0-py3-none-any.whl.metadata (13 kB)\n",
      "Collecting contourpy>=1.0.1 (from matplotlib->aif360)\n",
      "  Downloading contourpy-1.2.1-cp312-cp312-win_amd64.whl.metadata (5.8 kB)\n",
      "Collecting cycler>=0.10 (from matplotlib->aif360)\n",
      "  Downloading cycler-0.12.1-py3-none-any.whl.metadata (3.8 kB)\n",
      "Collecting fonttools>=4.22.0 (from matplotlib->aif360)\n",
      "  Downloading fonttools-4.53.0-cp312-cp312-win_amd64.whl.metadata (165 kB)\n",
      "     ---------------------------------------- 0.0/165.5 kB ? eta -:--:--\n",
      "     -------------------------------------- 165.5/165.5 kB 9.7 MB/s eta 0:00:00\n",
      "Collecting kiwisolver>=1.3.1 (from matplotlib->aif360)\n",
      "  Downloading kiwisolver-1.4.5-cp312-cp312-win_amd64.whl.metadata (6.5 kB)\n",
      "Requirement already satisfied: packaging>=20.0 in c:\\users\\devin\\appdata\\local\\programs\\python\\python312\\lib\\site-packages (from matplotlib->aif360) (24.1)\n",
      "Collecting pillow>=8 (from matplotlib->aif360)\n",
      "  Downloading pillow-10.3.0-cp312-cp312-win_amd64.whl.metadata (9.4 kB)\n",
      "Collecting pyparsing>=2.3.1 (from matplotlib->aif360)\n",
      "  Downloading pyparsing-3.1.2-py3-none-any.whl.metadata (5.1 kB)\n",
      "Requirement already satisfied: six>=1.5 in c:\\users\\devin\\appdata\\local\\programs\\python\\python312\\lib\\site-packages (from python-dateutil>=2.8.2->pandas>=0.24.0->aif360) (1.16.0)\n",
      "Downloading aif360-0.6.1-py3-none-any.whl (259 kB)\n",
      "   ---------------------------------------- 0.0/259.7 kB ? eta -:--:--\n",
      "   --------------------------------------- 259.7/259.7 kB 15.6 MB/s eta 0:00:00\n",
      "Downloading pandas-2.2.2-cp312-cp312-win_amd64.whl (11.5 MB)\n",
      "   ---------------------------------------- 0.0/11.5 MB ? eta -:--:--\n",
      "   ---- ----------------------------------- 1.2/11.5 MB 26.1 MB/s eta 0:00:01\n",
      "   -------- ------------------------------- 2.4/11.5 MB 25.6 MB/s eta 0:00:01\n",
      "   ----------- ---------------------------- 3.4/11.5 MB 23.8 MB/s eta 0:00:01\n",
      "   -------------- ------------------------- 4.1/11.5 MB 22.0 MB/s eta 0:00:01\n",
      "   ----------------- ---------------------- 5.1/11.5 MB 21.8 MB/s eta 0:00:01\n",
      "   -------------------- ------------------- 6.0/11.5 MB 21.2 MB/s eta 0:00:01\n",
      "   ------------------------ --------------- 7.1/11.5 MB 21.6 MB/s eta 0:00:01\n",
      "   --------------------------- ------------ 8.0/11.5 MB 21.4 MB/s eta 0:00:01\n",
      "   -------------------------------- ------- 9.2/11.5 MB 21.8 MB/s eta 0:00:01\n",
      "   --------------------------------- ------ 9.6/11.5 MB 21.2 MB/s eta 0:00:01\n",
      "   ---------------------------------- ----- 9.9/11.5 MB 19.2 MB/s eta 0:00:01\n",
      "   ------------------------------------- -- 10.8/11.5 MB 18.7 MB/s eta 0:00:01\n",
      "   ---------------------------------------  11.5/11.5 MB 19.3 MB/s eta 0:00:01\n",
      "   ---------------------------------------- 11.5/11.5 MB 17.2 MB/s eta 0:00:00\n",
      "Downloading scikit_learn-1.5.0-cp312-cp312-win_amd64.whl (10.9 MB)\n",
      "   ---------------------------------------- 0.0/10.9 MB ? eta -:--:--\n",
      "   ---- ----------------------------------- 1.3/10.9 MB 27.7 MB/s eta 0:00:01\n",
      "   ------- -------------------------------- 2.0/10.9 MB 21.1 MB/s eta 0:00:01\n",
      "   --------- ------------------------------ 2.7/10.9 MB 19.0 MB/s eta 0:00:01\n",
      "   ------------ --------------------------- 3.4/10.9 MB 18.2 MB/s eta 0:00:01\n",
      "   ---------------- ----------------------- 4.5/10.9 MB 19.0 MB/s eta 0:00:01\n",
      "   -------------------- ------------------- 5.6/10.9 MB 19.7 MB/s eta 0:00:01\n",
      "   ----------------------- ---------------- 6.5/10.9 MB 19.8 MB/s eta 0:00:01\n",
      "   ---------------------------- ----------- 7.8/10.9 MB 20.7 MB/s eta 0:00:01\n",
      "   ------------------------------- -------- 8.5/10.9 MB 20.2 MB/s eta 0:00:01\n",
      "   ---------------------------------- ----- 9.4/10.9 MB 20.1 MB/s eta 0:00:01\n",
      "   ----------------------------------- ---- 9.7/10.9 MB 18.8 MB/s eta 0:00:01\n",
      "   ----------------------------------- ---- 9.8/10.9 MB 17.8 MB/s eta 0:00:01\n",
      "   ------------------------------------ --- 10.0/10.9 MB 16.3 MB/s eta 0:00:01\n",
      "   ---------------------------------------  10.7/10.9 MB 16.0 MB/s eta 0:00:01\n",
      "   ---------------------------------------- 10.9/10.9 MB 15.2 MB/s eta 0:00:00\n",
      "Downloading scipy-1.13.1-cp312-cp312-win_amd64.whl (45.9 MB)\n",
      "   ---------------------------------------- 0.0/45.9 MB ? eta -:--:--\n",
      "   - -------------------------------------- 1.2/45.9 MB 26.1 MB/s eta 0:00:02\n",
      "   - -------------------------------------- 2.1/45.9 MB 21.9 MB/s eta 0:00:03\n",
      "   -- ------------------------------------- 2.8/45.9 MB 20.0 MB/s eta 0:00:03\n",
      "   --- ------------------------------------ 3.5/45.9 MB 18.6 MB/s eta 0:00:03\n",
      "   --- ------------------------------------ 4.2/45.9 MB 18.1 MB/s eta 0:00:03\n",
      "   ---- ----------------------------------- 5.3/45.9 MB 18.8 MB/s eta 0:00:03\n",
      "   ----- ---------------------------------- 6.1/45.9 MB 18.5 MB/s eta 0:00:03\n",
      "   ----- ---------------------------------- 6.6/45.9 MB 17.7 MB/s eta 0:00:03\n",
      "   ------ --------------------------------- 7.2/45.9 MB 17.1 MB/s eta 0:00:03\n",
      "   ------ --------------------------------- 7.9/45.9 MB 16.9 MB/s eta 0:00:03\n",
      "   ------- -------------------------------- 9.2/45.9 MB 17.8 MB/s eta 0:00:03\n",
      "   --------- ------------------------------ 10.4/45.9 MB 18.2 MB/s eta 0:00:02\n",
      "   --------- ------------------------------ 11.3/45.9 MB 18.2 MB/s eta 0:00:02\n",
      "   ---------- ----------------------------- 12.5/45.9 MB 18.7 MB/s eta 0:00:02\n",
      "   ----------- ---------------------------- 13.6/45.9 MB 19.8 MB/s eta 0:00:02\n",
      "   ------------- -------------------------- 15.0/45.9 MB 21.1 MB/s eta 0:00:02\n",
      "   ------------- -------------------------- 15.9/45.9 MB 21.1 MB/s eta 0:00:02\n",
      "   -------------- ------------------------- 17.2/45.9 MB 23.4 MB/s eta 0:00:02\n",
      "   --------------- ------------------------ 18.2/45.9 MB 24.3 MB/s eta 0:00:02\n",
      "   ---------------- ----------------------- 19.4/45.9 MB 23.4 MB/s eta 0:00:02\n",
      "   ----------------- ---------------------- 20.0/45.9 MB 22.6 MB/s eta 0:00:02\n",
      "   ----------------- ---------------------- 20.6/45.9 MB 21.8 MB/s eta 0:00:02\n",
      "   ------------------ --------------------- 21.2/45.9 MB 21.1 MB/s eta 0:00:02\n",
      "   ------------------ --------------------- 21.8/45.9 MB 20.5 MB/s eta 0:00:02\n",
      "   ------------------- -------------------- 22.3/45.9 MB 18.7 MB/s eta 0:00:02\n",
      "   ------------------- -------------------- 22.8/45.9 MB 18.2 MB/s eta 0:00:02\n",
      "   -------------------- ------------------- 23.3/45.9 MB 17.3 MB/s eta 0:00:02\n",
      "   -------------------- ------------------- 23.9/45.9 MB 16.8 MB/s eta 0:00:02\n",
      "   --------------------- ------------------ 24.5/45.9 MB 16.0 MB/s eta 0:00:02\n",
      "   --------------------- ------------------ 25.1/45.9 MB 15.2 MB/s eta 0:00:02\n",
      "   ---------------------- ----------------- 25.7/45.9 MB 14.9 MB/s eta 0:00:02\n",
      "   ---------------------- ----------------- 26.4/45.9 MB 14.9 MB/s eta 0:00:02\n",
      "   ----------------------- ---------------- 27.0/45.9 MB 14.2 MB/s eta 0:00:02\n",
      "   ------------------------ --------------- 27.6/45.9 MB 13.9 MB/s eta 0:00:02\n",
      "   ------------------------ --------------- 28.1/45.9 MB 13.4 MB/s eta 0:00:02\n",
      "   ------------------------- -------------- 28.7/45.9 MB 13.1 MB/s eta 0:00:02\n",
      "   ------------------------- -------------- 29.4/45.9 MB 12.8 MB/s eta 0:00:02\n",
      "   -------------------------- ------------- 30.0/45.9 MB 12.6 MB/s eta 0:00:02\n",
      "   -------------------------- ------------- 30.5/45.9 MB 12.6 MB/s eta 0:00:02\n",
      "   --------------------------- ------------ 31.2/45.9 MB 12.6 MB/s eta 0:00:02\n",
      "   --------------------------- ------------ 31.8/45.9 MB 12.6 MB/s eta 0:00:02\n",
      "   ---------------------------- ----------- 32.4/45.9 MB 12.8 MB/s eta 0:00:02\n",
      "   ---------------------------- ----------- 32.9/45.9 MB 12.9 MB/s eta 0:00:02\n",
      "   ----------------------------- ---------- 33.5/45.9 MB 12.8 MB/s eta 0:00:01\n",
      "   ----------------------------- ---------- 34.1/45.9 MB 13.1 MB/s eta 0:00:01\n",
      "   ------------------------------ --------- 34.8/45.9 MB 13.1 MB/s eta 0:00:01\n",
      "   ------------------------------ --------- 35.3/45.9 MB 13.1 MB/s eta 0:00:01\n",
      "   ------------------------------- -------- 35.8/45.9 MB 12.8 MB/s eta 0:00:01\n",
      "   ------------------------------- -------- 36.3/45.9 MB 12.6 MB/s eta 0:00:01\n",
      "   -------------------------------- ------- 36.8/45.9 MB 12.3 MB/s eta 0:00:01\n",
      "   -------------------------------- ------- 37.3/45.9 MB 12.4 MB/s eta 0:00:01\n",
      "   --------------------------------- ------ 38.0/45.9 MB 12.4 MB/s eta 0:00:01\n",
      "   --------------------------------- ------ 38.6/45.9 MB 12.6 MB/s eta 0:00:01\n",
      "   ---------------------------------- ----- 39.3/45.9 MB 12.6 MB/s eta 0:00:01\n",
      "   ---------------------------------- ----- 40.0/45.9 MB 12.8 MB/s eta 0:00:01\n",
      "   ----------------------------------- ---- 40.6/45.9 MB 12.8 MB/s eta 0:00:01\n",
      "   ----------------------------------- ---- 41.2/45.9 MB 12.6 MB/s eta 0:00:01\n",
      "   ------------------------------------ --- 41.8/45.9 MB 12.6 MB/s eta 0:00:01\n",
      "   ------------------------------------ --- 42.3/45.9 MB 12.6 MB/s eta 0:00:01\n",
      "   ------------------------------------- -- 42.8/45.9 MB 12.4 MB/s eta 0:00:01\n",
      "   ------------------------------------- -- 43.4/45.9 MB 12.4 MB/s eta 0:00:01\n",
      "   -------------------------------------- - 44.0/45.9 MB 12.6 MB/s eta 0:00:01\n",
      "   -------------------------------------- - 44.6/45.9 MB 12.6 MB/s eta 0:00:01\n",
      "   ---------------------------------------  45.4/45.9 MB 12.6 MB/s eta 0:00:01\n",
      "   ---------------------------------------  45.9/45.9 MB 12.6 MB/s eta 0:00:01\n",
      "   ---------------------------------------  45.9/45.9 MB 12.6 MB/s eta 0:00:01\n",
      "   ---------------------------------------  45.9/45.9 MB 12.6 MB/s eta 0:00:01\n",
      "   ---------------------------------------  45.9/45.9 MB 12.6 MB/s eta 0:00:01\n",
      "   ---------------------------------------- 45.9/45.9 MB 10.6 MB/s eta 0:00:00\n",
      "Downloading matplotlib-3.9.0-cp312-cp312-win_amd64.whl (8.0 MB)\n",
      "   ---------------------------------------- 0.0/8.0 MB ? eta -:--:--\n",
      "   -- ------------------------------------- 0.5/8.0 MB 11.4 MB/s eta 0:00:01\n",
      "   ----- ---------------------------------- 1.1/8.0 MB 11.8 MB/s eta 0:00:01\n",
      "   -------- ------------------------------- 1.7/8.0 MB 12.4 MB/s eta 0:00:01\n",
      "   ---------- ----------------------------- 2.1/8.0 MB 11.3 MB/s eta 0:00:01\n",
      "   ------------- -------------------------- 2.6/8.0 MB 11.1 MB/s eta 0:00:01\n",
      "   --------------- ------------------------ 3.1/8.0 MB 10.9 MB/s eta 0:00:01\n",
      "   ----------------- ---------------------- 3.5/8.0 MB 10.7 MB/s eta 0:00:01\n",
      "   ------------------- -------------------- 3.8/8.0 MB 10.2 MB/s eta 0:00:01\n",
      "   ---------------------- ----------------- 4.5/8.0 MB 10.7 MB/s eta 0:00:01\n",
      "   -------------------------- ------------- 5.2/8.0 MB 11.2 MB/s eta 0:00:01\n",
      "   ------------------------------ --------- 6.0/8.0 MB 11.7 MB/s eta 0:00:01\n",
      "   ---------------------------------- ----- 6.9/8.0 MB 12.2 MB/s eta 0:00:01\n",
      "   ------------------------------------- -- 7.6/8.0 MB 12.4 MB/s eta 0:00:01\n",
      "   ---------------------------------------  8.0/8.0 MB 12.7 MB/s eta 0:00:01\n",
      "   ---------------------------------------- 8.0/8.0 MB 11.9 MB/s eta 0:00:00\n",
      "Downloading contourpy-1.2.1-cp312-cp312-win_amd64.whl (189 kB)\n",
      "   ---------------------------------------- 0.0/189.9 kB ? eta -:--:--\n",
      "   --------------------------------------- 189.9/189.9 kB 11.2 MB/s eta 0:00:00\n",
      "Downloading cycler-0.12.1-py3-none-any.whl (8.3 kB)\n",
      "Downloading fonttools-4.53.0-cp312-cp312-win_amd64.whl (2.2 MB)\n",
      "   ---------------------------------------- 0.0/2.2 MB ? eta -:--:--\n",
      "   ---------------- ----------------------- 0.9/2.2 MB 19.4 MB/s eta 0:00:01\n",
      "   ---------------------------------- ----- 1.9/2.2 MB 20.0 MB/s eta 0:00:01\n",
      "   ---------------------------------------- 2.2/2.2 MB 17.5 MB/s eta 0:00:00\n",
      "Downloading joblib-1.4.2-py3-none-any.whl (301 kB)\n",
      "   ---------------------------------------- 0.0/301.8 kB ? eta -:--:--\n",
      "   ---------------------------------------- 301.8/301.8 kB 9.4 MB/s eta 0:00:00\n",
      "Downloading kiwisolver-1.4.5-cp312-cp312-win_amd64.whl (56 kB)\n",
      "   ---------------------------------------- 0.0/56.0 kB ? eta -:--:--\n",
      "   ---------------------------------------- 56.0/56.0 kB ? eta 0:00:00\n",
      "Downloading pillow-10.3.0-cp312-cp312-win_amd64.whl (2.5 MB)\n",
      "   ---------------------------------------- 0.0/2.5 MB ? eta -:--:--\n",
      "   ------------ --------------------------- 0.8/2.5 MB 24.8 MB/s eta 0:00:01\n",
      "   ----------------------- ---------------- 1.5/2.5 MB 23.6 MB/s eta 0:00:01\n",
      "   ------------------------------------- -- 2.4/2.5 MB 18.8 MB/s eta 0:00:01\n",
      "   ---------------------------------------- 2.5/2.5 MB 16.2 MB/s eta 0:00:00\n",
      "Downloading pyparsing-3.1.2-py3-none-any.whl (103 kB)\n",
      "   ---------------------------------------- 0.0/103.2 kB ? eta -:--:--\n",
      "   ---------------------------------------- 103.2/103.2 kB 6.2 MB/s eta 0:00:00\n",
      "Downloading pytz-2024.1-py2.py3-none-any.whl (505 kB)\n",
      "   ---------------------------------------- 0.0/505.5 kB ? eta -:--:--\n",
      "   --------------------------------------- 505.5/505.5 kB 16.0 MB/s eta 0:00:00\n",
      "Downloading threadpoolctl-3.5.0-py3-none-any.whl (18 kB)\n",
      "Downloading tzdata-2024.1-py2.py3-none-any.whl (345 kB)\n",
      "   ---------------------------------------- 0.0/345.4 kB ? eta -:--:--\n",
      "   --------------------------------------- 345.4/345.4 kB 20.9 MB/s eta 0:00:00\n",
      "Installing collected packages: pytz, tzdata, threadpoolctl, scipy, pyparsing, pillow, kiwisolver, joblib, fonttools, cycler, contourpy, scikit-learn, pandas, matplotlib, aif360\n",
      "Successfully installed aif360-0.6.1 contourpy-1.2.1 cycler-0.12.1 fonttools-4.53.0 joblib-1.4.2 kiwisolver-1.4.5 matplotlib-3.9.0 pandas-2.2.2 pillow-10.3.0 pyparsing-3.1.2 pytz-2024.1 scikit-learn-1.5.0 scipy-1.13.1 threadpoolctl-3.5.0 tzdata-2024.1\n",
      "Note: you may need to restart the kernel to use updated packages.\n"
     ]
    }
   ],
   "source": [
    "%pip install aif360"
   ]
  },
  {
   "cell_type": "code",
   "execution_count": 2,
   "id": "9117d2ed-2d67-4e15-ae2a-27136b391d47",
   "metadata": {},
   "outputs": [
    {
     "name": "stdout",
     "output_type": "stream",
     "text": [
      "Note: you may need to restart the kernel to use updated packages.\n"
     ]
    },
    {
     "name": "stderr",
     "output_type": "stream",
     "text": [
      "ERROR: Invalid requirement: \"'aif360[all]'\"\n"
     ]
    }
   ],
   "source": [
    "%pip install 'aif360[all]'"
   ]
  },
  {
   "cell_type": "code",
   "execution_count": 85,
   "id": "21328fc8",
   "metadata": {},
   "outputs": [],
   "source": [
    "import numpy as np\n",
    "import pandas as pd"
   ]
  },
  {
   "cell_type": "markdown",
   "id": "a6fdda03",
   "metadata": {},
   "source": [
    "Import dataset and metrics"
   ]
  },
  {
   "cell_type": "code",
   "execution_count": 86,
   "id": "de5d133d-ffcb-4b90-9110-1630bbb0438a",
   "metadata": {},
   "outputs": [],
   "source": [
    "from aif360.metrics import DatasetMetric\n",
    "from aif360.metrics import BinaryLabelDatasetMetric \n",
    "from aif360.datasets import GermanDataset\n",
    "\n",
    "\n",
    "# Load the German dataset\n",
    "german = GermanDataset()\n",
    "\n",
    "# Define unprivileged and privileged groups\n",
    "privileged_groups = [{'sex': 1, 'age': 1}]  # Example: male, age 1\n",
    "unprivileged_groups = [{'sex': 0}]  # Example: female\n",
    "\n",
    "# Compute dataset metrics\n",
    "dm = DatasetMetric(german, unprivileged_groups=unprivileged_groups, privileged_groups=privileged_groups)\n",
    "binaryMetric = BinaryLabelDatasetMetric(german,unprivileged_groups=unprivileged_groups,privileged_groups=privileged_groups)"
   ]
  },
  {
   "cell_type": "code",
   "execution_count": 87,
   "id": "1bbdb111",
   "metadata": {},
   "outputs": [
    {
     "data": {
      "text/plain": [
       "               instance weights features                \\\n",
       "                                                         \n",
       "                                   month credit_amount   \n",
       "instance names                                           \n",
       "0                           1.0      6.0        1169.0   \n",
       "1                           1.0     48.0        5951.0   \n",
       "2                           1.0     12.0        2096.0   \n",
       "3                           1.0     42.0        7882.0   \n",
       "4                           1.0     24.0        4870.0   \n",
       "...                         ...      ...           ...   \n",
       "995                         1.0     12.0        1736.0   \n",
       "996                         1.0     30.0        3857.0   \n",
       "997                         1.0     12.0         804.0   \n",
       "998                         1.0     45.0        1845.0   \n",
       "999                         1.0     45.0        4576.0   \n",
       "\n",
       "                                                                \\\n",
       "                                                                 \n",
       "               investment_as_income_percentage residence_since   \n",
       "instance names                                                   \n",
       "0                                          4.0             4.0   \n",
       "1                                          2.0             2.0   \n",
       "2                                          2.0             3.0   \n",
       "3                                          2.0             4.0   \n",
       "4                                          3.0             4.0   \n",
       "...                                        ...             ...   \n",
       "995                                        3.0             4.0   \n",
       "996                                        4.0             4.0   \n",
       "997                                        4.0             4.0   \n",
       "998                                        4.0             4.0   \n",
       "999                                        3.0             4.0   \n",
       "\n",
       "                                                                        \\\n",
       "               protected attribute                                       \n",
       "                               age number_of_credits people_liable_for   \n",
       "instance names                                                           \n",
       "0                              1.0               2.0               1.0   \n",
       "1                              0.0               1.0               1.0   \n",
       "2                              1.0               1.0               2.0   \n",
       "3                              1.0               1.0               2.0   \n",
       "4                              1.0               2.0               2.0   \n",
       "...                            ...               ...               ...   \n",
       "995                            1.0               1.0               1.0   \n",
       "996                            1.0               1.0               1.0   \n",
       "997                            1.0               1.0               1.0   \n",
       "998                            0.0               1.0               1.0   \n",
       "999                            1.0               1.0               1.0   \n",
       "\n",
       "                                               ...               \\\n",
       "               protected attribute             ...                \n",
       "                               sex status=A11  ... housing=A153   \n",
       "instance names                                 ...                \n",
       "0                              1.0        1.0  ...          0.0   \n",
       "1                              0.0        0.0  ...          0.0   \n",
       "2                              1.0        0.0  ...          0.0   \n",
       "3                              1.0        1.0  ...          1.0   \n",
       "4                              1.0        1.0  ...          1.0   \n",
       "...                            ...        ...  ...          ...   \n",
       "995                            0.0        0.0  ...          0.0   \n",
       "996                            1.0        1.0  ...          0.0   \n",
       "997                            1.0        0.0  ...          0.0   \n",
       "998                            1.0        1.0  ...          1.0   \n",
       "999                            1.0        0.0  ...          0.0   \n",
       "\n",
       "                                                                   \\\n",
       "                                                                    \n",
       "               skill_level=A171 skill_level=A172 skill_level=A173   \n",
       "instance names                                                      \n",
       "0                           0.0              0.0              1.0   \n",
       "1                           0.0              0.0              1.0   \n",
       "2                           0.0              1.0              0.0   \n",
       "3                           0.0              0.0              1.0   \n",
       "4                           0.0              0.0              1.0   \n",
       "...                         ...              ...              ...   \n",
       "995                         0.0              1.0              0.0   \n",
       "996                         0.0              0.0              0.0   \n",
       "997                         0.0              0.0              1.0   \n",
       "998                         0.0              0.0              1.0   \n",
       "999                         0.0              0.0              1.0   \n",
       "\n",
       "                                                               \\\n",
       "                                                                \n",
       "               skill_level=A174 telephone=A191 telephone=A192   \n",
       "instance names                                                  \n",
       "0                           0.0            0.0            1.0   \n",
       "1                           0.0            1.0            0.0   \n",
       "2                           0.0            1.0            0.0   \n",
       "3                           0.0            1.0            0.0   \n",
       "4                           0.0            1.0            0.0   \n",
       "...                         ...            ...            ...   \n",
       "995                         0.0            1.0            0.0   \n",
       "996                         1.0            0.0            1.0   \n",
       "997                         0.0            1.0            0.0   \n",
       "998                         0.0            0.0            1.0   \n",
       "999                         0.0            1.0            0.0   \n",
       "\n",
       "                                                       labels  \n",
       "                                                               \n",
       "               foreign_worker=A201 foreign_worker=A202         \n",
       "instance names                                                 \n",
       "0                              1.0                 0.0    1.0  \n",
       "1                              1.0                 0.0    2.0  \n",
       "2                              1.0                 0.0    1.0  \n",
       "3                              1.0                 0.0    1.0  \n",
       "4                              1.0                 0.0    2.0  \n",
       "...                            ...                 ...    ...  \n",
       "995                            1.0                 0.0    1.0  \n",
       "996                            1.0                 0.0    1.0  \n",
       "997                            1.0                 0.0    1.0  \n",
       "998                            1.0                 0.0    2.0  \n",
       "999                            1.0                 0.0    1.0  \n",
       "\n",
       "[1000 rows x 60 columns]"
      ]
     },
     "execution_count": 87,
     "metadata": {},
     "output_type": "execute_result"
    }
   ],
   "source": [
    "german"
   ]
  },
  {
   "cell_type": "code",
   "execution_count": 89,
   "id": "b30a6b85",
   "metadata": {},
   "outputs": [
    {
     "name": "stdout",
     "output_type": "stream",
     "text": [
      "Difference in number of instances:  295.0\n"
     ]
    }
   ],
   "source": [
    "numPrivileged = dm.num_instances(privileged=True)\n",
    "numUnPrivileged = dm.num_instances(privileged=False)\n",
    "print('Difference in number of instances: ', numPrivileged-numUnPrivileged)"
   ]
  },
  {
   "cell_type": "code",
   "execution_count": 88,
   "id": "c1527dbd",
   "metadata": {},
   "outputs": [
    {
     "name": "stdout",
     "output_type": "stream",
     "text": [
      "-295.0\n"
     ]
    }
   ],
   "source": [
    "# This calculate numUnprivileged - numPrivileged\n",
    "diff=dm.difference(dm.num_instances)\n",
    "print(diff)"
   ]
  },
  {
   "cell_type": "code",
   "execution_count": 90,
   "id": "19e3f50b",
   "metadata": {},
   "outputs": [
    {
     "name": "stdout",
     "output_type": "stream",
     "text": [
      "Ratio = (no. of unprivileged)/(no. of privileged) =  0.512396694214876\n"
     ]
    },
    {
     "data": {
      "text/plain": [
       "0.512396694214876"
      ]
     },
     "execution_count": 90,
     "metadata": {},
     "output_type": "execute_result"
    }
   ],
   "source": [
    "print('Ratio = (no. of unprivileged)/(no. of privileged) = ',numUnPrivileged/numPrivileged)\n",
    "dm.ratio(dm.num_instances)"
   ]
  },
  {
   "cell_type": "markdown",
   "id": "9b605836",
   "metadata": {},
   "source": [
    "Base Rate: The fraction of instances in the dataset that have the positive (or favorable) label.\n",
    "For instance, in a credit approval scenario, \"approved\" might be the positive label."
   ]
  },
  {
   "cell_type": "code",
   "execution_count": 91,
   "id": "175fadd4",
   "metadata": {},
   "outputs": [
    {
     "name": "stdout",
     "output_type": "stream",
     "text": [
      "Overall baseRate=  0.7\n",
      "Privileged baseRate=  0.7388429752066116\n",
      "Unprivileged baseRate=  0.6483870967741936\n"
     ]
    }
   ],
   "source": [
    "overall_baseRate = binaryMetric.base_rate()\n",
    "privileged_baseRate = binaryMetric.base_rate(privileged=True)\n",
    "unprivileged_baseRate = binaryMetric.base_rate(privileged=False)\n",
    "print('Overall baseRate= ',overall_baseRate)\n",
    "print('Privileged baseRate= ',privileged_baseRate)\n",
    "print('Unprivileged baseRate= ',unprivileged_baseRate)"
   ]
  },
  {
   "cell_type": "markdown",
   "id": "6d4c128b",
   "metadata": {},
   "source": [
    "The base rate difference between unprivileged and privileged groups\n",
    "\n",
    "Difference = base_rate of unprivileged - base_rate of priviledged"
   ]
  },
  {
   "cell_type": "code",
   "execution_count": 92,
   "id": "51364f43",
   "metadata": {},
   "outputs": [
    {
     "data": {
      "text/plain": [
       "-0.09045587843241798"
      ]
     },
     "execution_count": 92,
     "metadata": {},
     "output_type": "execute_result"
    }
   ],
   "source": [
    "base_rate_diff = binaryMetric.difference(binaryMetric.base_rate)\n",
    "base_rate_diff"
   ]
  },
  {
   "cell_type": "code",
   "execution_count": 62,
   "id": "4f3b8670",
   "metadata": {},
   "outputs": [
    {
     "data": {
      "text/plain": [
       "-0.09045587843241798"
      ]
     },
     "execution_count": 62,
     "metadata": {},
     "output_type": "execute_result"
    }
   ],
   "source": [
    "unprivileged_baseRate-privileged_baseRate"
   ]
  },
  {
   "cell_type": "markdown",
   "id": "b596c62d",
   "metadata": {},
   "source": [
    "**Consistency**\n",
    "\n",
    "*Individual fairness metric* that measures how similar the labels are for similar instances."
   ]
  },
  {
   "cell_type": "code",
   "execution_count": 93,
   "id": "56374175",
   "metadata": {},
   "outputs": [
    {
     "data": {
      "text/plain": [
       "array([0.60912])"
      ]
     },
     "execution_count": 93,
     "metadata": {},
     "output_type": "execute_result"
    }
   ],
   "source": [
    "consistency_score = binaryMetric.consistency(n_neighbors=25)\n",
    "consistency_score"
   ]
  },
  {
   "cell_type": "markdown",
   "id": "2de6873e",
   "metadata": {},
   "source": [
    "A consistency score of 0.60912 means that, on average, about 60.912% of an instance's nearest neighbors have the same label as the instance itself."
   ]
  },
  {
   "cell_type": "markdown",
   "id": "e094a1c4",
   "metadata": {},
   "source": [
    "**Disparate Impact**\n",
    "<math xmlns=\"http://www.w3.org/1998/Math/MathML\" display=\"block\">\n",
    "  <mfrac>\n",
    "    <mrow>\n",
    "      <mi>P</mi>\n",
    "      <mi>r</mi>\n",
    "      <mo stretchy=\"false\">(</mo>\n",
    "      <mi>Y</mi>\n",
    "      <mo>=</mo>\n",
    "      <mn>1</mn>\n",
    "      <mrow data-mjx-texclass=\"ORD\">\n",
    "        <mo stretchy=\"false\">|</mo>\n",
    "      </mrow>\n",
    "      <mi>D</mi>\n",
    "      <mo>=</mo>\n",
    "      <mtext>unprivileged</mtext>\n",
    "      <mo stretchy=\"false\">)</mo>\n",
    "    </mrow>\n",
    "    <mrow>\n",
    "      <mi>P</mi>\n",
    "      <mi>r</mi>\n",
    "      <mo stretchy=\"false\">(</mo>\n",
    "      <mi>Y</mi>\n",
    "      <mo>=</mo>\n",
    "      <mn>1</mn>\n",
    "      <mrow data-mjx-texclass=\"ORD\">\n",
    "        <mo stretchy=\"false\">|</mo>\n",
    "      </mrow>\n",
    "      <mi>D</mi>\n",
    "      <mo>=</mo>\n",
    "      <mtext>privileged</mtext>\n",
    "      <mo stretchy=\"false\">)</mo>\n",
    "    </mrow>\n",
    "  </mfrac>\n",
    "</math>"
   ]
  },
  {
   "cell_type": "code",
   "execution_count": 94,
   "id": "d31c0f6f",
   "metadata": {},
   "outputs": [
    {
     "data": {
      "text/plain": [
       "0.8775709027928124"
      ]
     },
     "execution_count": 94,
     "metadata": {},
     "output_type": "execute_result"
    }
   ],
   "source": [
    "binaryMetric.disparate_impact()"
   ]
  },
  {
   "cell_type": "markdown",
   "id": "53444056",
   "metadata": {},
   "source": [
    "Disparate Impact < 1: Indicates potential bias against the unprivileged group.\n",
    "So, according to this metric there is a potential bias against unprivileged group."
   ]
  },
  {
   "cell_type": "markdown",
   "id": "0e3aee9e",
   "metadata": {},
   "source": [
    "**statistical_parity_difference()**\n",
    "<math xmlns=\"http://www.w3.org/1998/Math/MathML\" display=\"block\">\n",
    "  <mi>P</mi>\n",
    "  <mi>r</mi>\n",
    "  <mo stretchy=\"false\">(</mo>\n",
    "  <mi>Y</mi>\n",
    "  <mo>=</mo>\n",
    "  <mn>1</mn>\n",
    "  <mrow data-mjx-texclass=\"ORD\">\n",
    "    <mo stretchy=\"false\">|</mo>\n",
    "  </mrow>\n",
    "  <mi>D</mi>\n",
    "  <mo>=</mo>\n",
    "  <mtext>unprivileged</mtext>\n",
    "  <mo stretchy=\"false\">)</mo>\n",
    "  <mo>&#x2212;</mo>\n",
    "  <mi>P</mi>\n",
    "  <mi>r</mi>\n",
    "  <mo stretchy=\"false\">(</mo>\n",
    "  <mi>Y</mi>\n",
    "  <mo>=</mo>\n",
    "  <mn>1</mn>\n",
    "  <mrow data-mjx-texclass=\"ORD\">\n",
    "    <mo stretchy=\"false\">|</mo>\n",
    "  </mrow>\n",
    "  <mi>D</mi>\n",
    "  <mo>=</mo>\n",
    "  <mtext>privileged</mtext>\n",
    "  <mo stretchy=\"false\">)</mo>\n",
    "</math>"
   ]
  },
  {
   "cell_type": "code",
   "execution_count": 95,
   "id": "de7851c7",
   "metadata": {},
   "outputs": [
    {
     "name": "stdout",
     "output_type": "stream",
     "text": [
      "statistical_parity_difference: -0.09045587843241798\n",
      "mean_difference: -0.09045587843241798\n",
      "NOTE: Both are same\n"
     ]
    }
   ],
   "source": [
    "spd = binaryMetric.statistical_parity_difference()\n",
    "md = binaryMetric.mean_difference()\n",
    "print('statistical_parity_difference:', spd)\n",
    "print('mean_difference:', md)\n",
    "\n",
    "print('NOTE: Both are same')"
   ]
  },
  {
   "cell_type": "markdown",
   "id": "34e2e8fd",
   "metadata": {},
   "source": [
    "Num-negatives: Calculate number of negative outcomes"
   ]
  },
  {
   "cell_type": "code",
   "execution_count": 77,
   "id": "8f74689e",
   "metadata": {},
   "outputs": [
    {
     "name": "stdout",
     "output_type": "stream",
     "text": [
      "300.0\n",
      "158.0\n",
      "109.0\n"
     ]
    }
   ],
   "source": [
    "overall_ = binaryMetric.num_negatives()\n",
    "pri_ = binaryMetric.num_negatives(privileged=True)\n",
    "unpri_ = binaryMetric.num_negatives(privileged=False)\n",
    "print(overall_)\n",
    "print(pri_)\n",
    "print(unpri_)"
   ]
  },
  {
   "cell_type": "code",
   "execution_count": 84,
   "id": "2d2ac164",
   "metadata": {},
   "outputs": [
    {
     "ename": "IndexError",
     "evalue": "invalid index to scalar variable.",
     "output_type": "error",
     "traceback": [
      "\u001b[1;31m---------------------------------------------------------------------------\u001b[0m",
      "\u001b[1;31mIndexError\u001b[0m                                Traceback (most recent call last)",
      "Cell \u001b[1;32mIn[84], line 3\u001b[0m\n\u001b[0;32m      1\u001b[0m predictions \u001b[38;5;241m=\u001b[39m np\u001b[38;5;241m.\u001b[39mrandom\u001b[38;5;241m.\u001b[39mrandint(\u001b[38;5;241m2\u001b[39m, size\u001b[38;5;241m=\u001b[39m\u001b[38;5;28mlen\u001b[39m(german\u001b[38;5;241m.\u001b[39mlabels))\n\u001b[1;32m----> 3\u001b[0m subgroup_metrics \u001b[38;5;241m=\u001b[39m \u001b[43mbinaryMetric\u001b[49m\u001b[38;5;241;43m.\u001b[39;49m\u001b[43mrich_subgroup\u001b[49m\u001b[43m(\u001b[49m\u001b[43mpredictions\u001b[49m\u001b[38;5;241;43m=\u001b[39;49m\u001b[43mpredictions\u001b[49m\u001b[43m,\u001b[49m\u001b[43mfairness_def\u001b[49m\u001b[38;5;241;43m=\u001b[39;49m\u001b[38;5;124;43m'\u001b[39;49m\u001b[38;5;124;43mFN\u001b[39;49m\u001b[38;5;124;43m'\u001b[39;49m\u001b[43m)\u001b[49m\n\u001b[0;32m      5\u001b[0m \u001b[38;5;66;03m# Print the subgroup metrics\u001b[39;00m\n\u001b[0;32m      6\u001b[0m \u001b[38;5;28;01mfor\u001b[39;00m key, value \u001b[38;5;129;01min\u001b[39;00m subgroup_metrics\u001b[38;5;241m.\u001b[39mitems():\n",
      "File \u001b[1;32mc:\\Users\\devin\\AppData\\Local\\Programs\\Python\\Python312\\Lib\\site-packages\\aif360\\metrics\\metric.py:33\u001b[0m, in \u001b[0;36mmemoize.<locals>.wrapper\u001b[1;34m(*args, **kwargs)\u001b[0m\n\u001b[0;32m     31\u001b[0m key \u001b[38;5;241m=\u001b[39m _make_key(args, kwargs, unhashable)\n\u001b[0;32m     32\u001b[0m \u001b[38;5;28;01mif\u001b[39;00m key \u001b[38;5;129;01mis\u001b[39;00m unhashable:\n\u001b[1;32m---> 33\u001b[0m     \u001b[38;5;28;01mreturn\u001b[39;00m \u001b[43mfunc\u001b[49m\u001b[43m(\u001b[49m\u001b[38;5;241;43m*\u001b[39;49m\u001b[43margs\u001b[49m\u001b[43m,\u001b[49m\u001b[43m \u001b[49m\u001b[38;5;241;43m*\u001b[39;49m\u001b[38;5;241;43m*\u001b[39;49m\u001b[43mkwargs\u001b[49m\u001b[43m)\u001b[49m\n\u001b[0;32m     34\u001b[0m result \u001b[38;5;241m=\u001b[39m cache\u001b[38;5;241m.\u001b[39mget(key, sentinal)\n\u001b[0;32m     35\u001b[0m \u001b[38;5;28;01mif\u001b[39;00m result \u001b[38;5;129;01mis\u001b[39;00m \u001b[38;5;129;01mnot\u001b[39;00m sentinal:\n",
      "File \u001b[1;32mc:\\Users\\devin\\AppData\\Local\\Programs\\Python\\Python312\\Lib\\site-packages\\aif360\\metrics\\binary_label_dataset_metric.py:254\u001b[0m, in \u001b[0;36mBinaryLabelDatasetMetric.rich_subgroup\u001b[1;34m(self, predictions, fairness_def)\u001b[0m\n\u001b[0;32m    252\u001b[0m \u001b[38;5;66;03m# make hashable type\u001b[39;00m\n\u001b[0;32m    253\u001b[0m y \u001b[38;5;241m=\u001b[39m array_to_tuple(\u001b[38;5;28mself\u001b[39m\u001b[38;5;241m.\u001b[39mdataset\u001b[38;5;241m.\u001b[39mlabels)\n\u001b[1;32m--> 254\u001b[0m predictions \u001b[38;5;241m=\u001b[39m \u001b[43marray_to_tuple\u001b[49m\u001b[43m(\u001b[49m\u001b[43mpredictions\u001b[49m\u001b[43m)\u001b[49m\n\u001b[0;32m    256\u001b[0m \u001b[38;5;66;03m# returns mean(predictions | y = 0) if 'FP' 1-mean(predictions | y = 1) if FN\u001b[39;00m\n\u001b[0;32m    257\u001b[0m metric_baseline \u001b[38;5;241m=\u001b[39m auditor\u001b[38;5;241m.\u001b[39mget_baseline(y, predictions)\n",
      "File \u001b[1;32mc:\\Users\\devin\\AppData\\Local\\Programs\\Python\\Python312\\Lib\\site-packages\\aif360\\algorithms\\inprocessing\\gerryfair\\clean.py:100\u001b[0m, in \u001b[0;36marray_to_tuple\u001b[1;34m(x)\u001b[0m\n\u001b[0;32m     98\u001b[0m \u001b[38;5;28;01mdef\u001b[39;00m \u001b[38;5;21marray_to_tuple\u001b[39m(x):\n\u001b[0;32m     99\u001b[0m     \u001b[38;5;66;03m# have to cast ndarray to hashable type in get_baseline()\u001b[39;00m\n\u001b[1;32m--> 100\u001b[0m     x \u001b[38;5;241m=\u001b[39m \u001b[38;5;28mtuple\u001b[39m([\u001b[43mel\u001b[49m\u001b[43m[\u001b[49m\u001b[38;5;241;43m0\u001b[39;49m\u001b[43m]\u001b[49m \u001b[38;5;28;01mfor\u001b[39;00m el \u001b[38;5;129;01min\u001b[39;00m x]) \u001b[38;5;28;01mif\u001b[39;00m x\u001b[38;5;241m.\u001b[39m\u001b[38;5;18m__class__\u001b[39m\u001b[38;5;241m.\u001b[39m\u001b[38;5;18m__name__\u001b[39m \u001b[38;5;241m==\u001b[39m \u001b[38;5;124m'\u001b[39m\u001b[38;5;124mndarray\u001b[39m\u001b[38;5;124m'\u001b[39m \u001b[38;5;28;01melse\u001b[39;00m x\n\u001b[0;32m    101\u001b[0m     \u001b[38;5;28;01mreturn\u001b[39;00m x\n",
      "\u001b[1;31mIndexError\u001b[0m: invalid index to scalar variable."
     ]
    }
   ],
   "source": [
    "predictions = np.random.randint(2, size=len(german.labels))\n",
    "\n",
    "subgroup_metrics = binaryMetric.rich_subgroup(predictions=predictions,fairness_def='FN')\n",
    "\n",
    "# Print the subgroup metrics\n",
    "for key, value in subgroup_metrics.items():\n",
    "    print(f\"{key}: {value}\")"
   ]
  },
  {
   "cell_type": "code",
   "execution_count": null,
   "id": "c7b2dc03",
   "metadata": {},
   "outputs": [],
   "source": []
  },
  {
   "cell_type": "code",
   "execution_count": null,
   "metadata": {},
   "outputs": [],
   "source": []
  }
 ],
 "metadata": {
  "kernelspec": {
   "display_name": "Python 3 (ipykernel)",
   "language": "python",
   "name": "python3"
  },
  "language_info": {
   "codemirror_mode": {
    "name": "ipython",
    "version": 3
   },
   "file_extension": ".py",
   "mimetype": "text/x-python",
   "name": "python",
   "nbconvert_exporter": "python",
   "pygments_lexer": "ipython3",
   "version": "3.12.3"
  }
 },
 "nbformat": 4,
 "nbformat_minor": 5
}
